{
 "cells": [
  {
   "cell_type": "code",
   "execution_count": 1,
   "id": "2846f9fa",
   "metadata": {},
   "outputs": [],
   "source": [
    "import numpy as np\n",
    "import cv2"
   ]
  },
  {
   "cell_type": "code",
   "execution_count": 2,
   "id": "a4231529",
   "metadata": {},
   "outputs": [],
   "source": [
    "folder_path = r\"C:\\Users\\farha\\OneDrive\\Desktop\\opencv\\Images\"\n",
    "image_files = [\"1.JPG\", \"2.JPG\", \"3.JPG\",\"4.JPG\" ]"
   ]
  },
  {
   "cell_type": "code",
   "execution_count": 11,
   "id": "fa707452",
   "metadata": {},
   "outputs": [],
   "source": []
  },
  {
   "cell_type": "code",
   "execution_count": 3,
   "id": "b8c386f2",
   "metadata": {},
   "outputs": [],
   "source": [
    "def detect_oranges(image):\n",
    "    \n",
    "    orange_mask = cv2.inRange(image, (0, 100, 100), (30, 255, 255))\n",
    "    contours, _ = cv2.findContours(orange_mask, cv2.RETR_EXTERNAL, cv2.CHAIN_APPROX_SIMPLE)\n",
    "    return contours"
   ]
  },
  {
   "cell_type": "code",
   "execution_count": 4,
   "id": "e2aa2fcf",
   "metadata": {},
   "outputs": [],
   "source": [
    "def count_oranges(contours):\n",
    "    # Implement post-processing to filter out repeated or overlapping detections\n",
    "    # Example: Simple centroid-based counting\n",
    "    centroids = [np.mean(cnt, axis=0) for cnt in contours]\n",
    "    unique_oranges = len(set(tuple(c[0]) for c in centroids))\n",
    "\n",
    "    return unique_oranges"
   ]
  },
  {
   "cell_type": "code",
   "execution_count": 20,
   "id": "36cff007",
   "metadata": {},
   "outputs": [
    {
     "ename": "error",
     "evalue": "OpenCV(4.8.0) D:\\a\\opencv-python\\opencv-python\\opencv\\modules\\highgui\\src\\window.cpp:1272: error: (-2:Unspecified error) The function is not implemented. Rebuild the library with Windows, GTK+ 2.x or Cocoa support. If you are on Ubuntu or Debian, install libgtk2.0-dev and pkg-config, then re-run cmake or configure script in function 'cvShowImage'\n",
     "output_type": "error",
     "traceback": [
      "\u001b[1;31m---------------------------------------------------------------------------\u001b[0m",
      "\u001b[1;31merror\u001b[0m                                     Traceback (most recent call last)",
      "Cell \u001b[1;32mIn[20], line 23\u001b[0m\n\u001b[0;32m     20\u001b[0m     cv2\u001b[38;5;241m.\u001b[39mrectangle(image_with_boxes, (x, y), (x \u001b[38;5;241m+\u001b[39m w, y \u001b[38;5;241m+\u001b[39m h), (\u001b[38;5;241m0\u001b[39m, \u001b[38;5;241m255\u001b[39m, \u001b[38;5;241m0\u001b[39m), \u001b[38;5;241m2\u001b[39m)\n\u001b[0;32m     22\u001b[0m \u001b[38;5;66;03m# Display the image with bounding boxes\u001b[39;00m\n\u001b[1;32m---> 23\u001b[0m cv2\u001b[38;5;241m.\u001b[39mimshow(\u001b[38;5;124mf\u001b[39m\u001b[38;5;124m\"\u001b[39m\u001b[38;5;124mDetected Oranges in \u001b[39m\u001b[38;5;132;01m{\u001b[39;00mfile_name\u001b[38;5;132;01m}\u001b[39;00m\u001b[38;5;124m\"\u001b[39m, image_with_boxes)\n\u001b[0;32m     24\u001b[0m cv2\u001b[38;5;241m.\u001b[39mimwrite(\u001b[38;5;124mf\u001b[39m\u001b[38;5;124m\"\u001b[39m\u001b[38;5;124mDetected_Oranges_\u001b[39m\u001b[38;5;132;01m{\u001b[39;00mfile_name\u001b[38;5;132;01m}\u001b[39;00m\u001b[38;5;124m\"\u001b[39m, image_with_boxes)\n\u001b[0;32m     25\u001b[0m cv2\u001b[38;5;241m.\u001b[39mwaitKey(\u001b[38;5;241m0\u001b[39m)\n",
      "\u001b[1;31merror\u001b[0m: OpenCV(4.8.0) D:\\a\\opencv-python\\opencv-python\\opencv\\modules\\highgui\\src\\window.cpp:1272: error: (-2:Unspecified error) The function is not implemented. Rebuild the library with Windows, GTK+ 2.x or Cocoa support. If you are on Ubuntu or Debian, install libgtk2.0-dev and pkg-config, then re-run cmake or configure script in function 'cvShowImage'\n"
     ]
    }
   ],
   "source": [
    "for file_name in image_files:\n",
    "    # Step 1: Read image\n",
    "    image = cv2.imread(f\"{folder_path}/{file_name}\")\n",
    "\n",
    "    # Step 2: Preprocess image\n",
    "    preprocessed_image = preprocess_image(image.copy())  # Make a copy to avoid modifying the original image\n",
    "\n",
    "    # Step 3: Object Detection\n",
    "    detected_contours = detect_oranges(preprocessed_image)\n",
    "\n",
    "    # Step 4: Counting\n",
    "    unique_oranges_count = count_oranges(detected_contours)\n",
    "\n",
    "    # Step 5: Visualization\n",
    "    image_with_boxes = preprocessed_image.copy()\n",
    "\n",
    "    # Draw bounding boxes around the detected oranges\n",
    "    for cnt in detected_contours:\n",
    "        x, y, w, h = cv2.boundingRect(cnt)\n",
    "        cv2.rectangle(image_with_boxes, (x, y), (x + w, y + h), (0, 255, 0), 2)\n",
    "\n",
    "    # Display the image with bounding boxes\n",
    "    cv2.imshow(f\"Detected Oranges in {file_name}\", image_with_boxes)\n",
    "    cv2.imwrite(f\"Detected_Oranges_{file_name}\", image_with_boxes)\n",
    "    cv2.waitKey(0)\n",
    "    cv2.destroyAllWindows()\n",
    "\n",
    "    print(f\"File: {file_name}, Unique Oranges Count: {unique_oranges_count}\")"
   ]
  },
  {
   "cell_type": "code",
   "execution_count": 17,
   "id": "72ce4b2b",
   "metadata": {},
   "outputs": [
    {
     "name": "stdout",
     "output_type": "stream",
     "text": [
      "Requirement already satisfied: opencv-python-headless in c:\\users\\farha\\anaconda3\\lib\\site-packages (4.8.0.74)\n",
      "Requirement already satisfied: numpy>=1.21.2 in c:\\users\\farha\\anaconda3\\lib\\site-packages (from opencv-python-headless) (1.24.3)\n",
      "Note: you may need to restart the kernel to use updated packages.\n"
     ]
    }
   ],
   "source": [
    "pip install opencv-python-headless"
   ]
  },
  {
   "cell_type": "code",
   "execution_count": 18,
   "id": "6b805eaf",
   "metadata": {},
   "outputs": [
    {
     "name": "stdout",
     "output_type": "stream",
     "text": [
      "Requirement already satisfied: opencv-python-headless in c:\\users\\farha\\anaconda3\\lib\\site-packages (4.8.0.74)\n",
      "Requirement already satisfied: pywin32 in c:\\users\\farha\\anaconda3\\lib\\site-packages (305.1)\n",
      "Requirement already satisfied: numpy>=1.21.2 in c:\\users\\farha\\anaconda3\\lib\\site-packages (from opencv-python-headless) (1.24.3)\n",
      "Note: you may need to restart the kernel to use updated packages.\n"
     ]
    }
   ],
   "source": [
    "pip install opencv-python-headless pywin32"
   ]
  },
  {
   "cell_type": "code",
   "execution_count": null,
   "id": "55ff07f5",
   "metadata": {},
   "outputs": [],
   "source": []
  }
 ],
 "metadata": {
  "kernelspec": {
   "display_name": "Python 3 (ipykernel)",
   "language": "python",
   "name": "python3"
  },
  "language_info": {
   "codemirror_mode": {
    "name": "ipython",
    "version": 3
   },
   "file_extension": ".py",
   "mimetype": "text/x-python",
   "name": "python",
   "nbconvert_exporter": "python",
   "pygments_lexer": "ipython3",
   "version": "3.11.3"
  }
 },
 "nbformat": 4,
 "nbformat_minor": 5
}
