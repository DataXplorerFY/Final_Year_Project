{
 "cells": [
  {
   "cell_type": "code",
   "execution_count": 1,
   "id": "f6e8da5a",
   "metadata": {},
   "outputs": [
    {
     "name": "stderr",
     "output_type": "stream",
     "text": [
      "C:\\Users\\farha\\AppData\\Local\\Temp\\ipykernel_7288\\2634069515.py:21: DeprecationWarning: ANTIALIAS is deprecated and will be removed in Pillow 10 (2023-07-01). Use LANCZOS or Resampling.LANCZOS instead.\n",
      "  img_resized = img.resize(target_size, Image.ANTIALIAS)\n"
     ]
    }
   ],
   "source": [
    "from PIL import Image\n",
    "import os\n",
    "\n",
    "def resize_images(input_folder, output_folder, target_size):\n",
    "    # Create the output folder if it doesn't exist\n",
    "    if not os.path.exists(output_folder):\n",
    "        os.makedirs(output_folder)\n",
    "\n",
    "    # List all files in the input folder\n",
    "    files = os.listdir(input_folder)\n",
    "\n",
    "    for file in files:\n",
    "        # Check if the file is an image\n",
    "        if file.lower().endswith(('.png', '.jpg', '.jpeg', '.gif')):\n",
    "            input_path = os.path.join(input_folder, file)\n",
    "            output_path = os.path.join(output_folder, file)\n",
    "\n",
    "            # Open the image\n",
    "            with Image.open(input_path) as img:\n",
    "                # Resize the image while maintaining the aspect ratio\n",
    "                img_resized = img.resize(target_size, Image.ANTIALIAS)\n",
    "\n",
    "                # Save the resized image\n",
    "                img_resized.save(output_path)\n",
    "\n",
    "if __name__ == \"__main__\":\n",
    "    # Set your input and output folders\n",
    "    input_folder = r\"D:\\640 data\"\n",
    "    output_folder = r\"D:\\640 resize\"\n",
    "\n",
    "    # Set the target size (width, height)\n",
    "    target_size = (640, 640)\n",
    "\n",
    "    # Resize the images\n",
    "    resize_images(input_folder, output_folder, target_size)\n"
   ]
  },
  {
   "cell_type": "code",
   "execution_count": null,
   "id": "daf3a269",
   "metadata": {},
   "outputs": [],
   "source": []
  }
 ],
 "metadata": {
  "kernelspec": {
   "display_name": "Python 3 (ipykernel)",
   "language": "python",
   "name": "python3"
  },
  "language_info": {
   "codemirror_mode": {
    "name": "ipython",
    "version": 3
   },
   "file_extension": ".py",
   "mimetype": "text/x-python",
   "name": "python",
   "nbconvert_exporter": "python",
   "pygments_lexer": "ipython3",
   "version": "3.11.3"
  }
 },
 "nbformat": 4,
 "nbformat_minor": 5
}
